{
 "cells": [
  {
   "cell_type": "code",
   "execution_count": 2,
   "metadata": {},
   "outputs": [],
   "source": [
    "import market_data\n",
    "from datetime import datetime"
   ]
  },
  {
   "cell_type": "code",
   "execution_count": 5,
   "metadata": {},
   "outputs": [],
   "source": [
    "# Binance API parameters\n",
    "traded_assets = ['BTC', 'ETH', 'ADA', 'DOGE']\n",
    "start_date = \"Jan 01, 2021\"\n",
    "end_date = \"Dec 31, 2021\"\n",
    "stable_assets = ['USDT']\n",
    "time_horizons = ['1hr', '12hr', '1wk']\n",
    "\n",
    "# EMA parameters\n",
    "alpha_values = [0.25, 0.5, 0.75]"
   ]
  },
  {
   "cell_type": "code",
   "execution_count": 6,
   "metadata": {},
   "outputs": [],
   "source": [
    "\"\"\"\n",
    "Fetch data with all parameter combinations\n",
    "\"\"\"\n",
    "for traded_asset in traded_assets:\n",
    "    for stable_asset in stable_assets:\n",
    "        for time_horizon in time_horizons:\n",
    "            for alpha in alpha_values:\n",
    "                df_raw = market_data.fetchBinance(\n",
    "                        traded_asset=traded_asset,\n",
    "                        stable_asset=stable_asset,\n",
    "                        time_frame=time_horizon,\n",
    "                        start_date=start_date,\n",
    "                        end_date=end_date\n",
    "                    )\n",
    "                \n",
    "                # only 'open' and 'close' needed for moving average calculation\n",
    "                df = df_raw[['open', 'close', 'closeTime']].copy()\n",
    "                df['close_ema'] = df['close'].ewm(alpha=alpha).mean()\n",
    "\n",
    "                # convert time from unix to human readable for r plotting\n",
    "                for i in range(len(df)):\n",
    "                    df.loc[i, 'close_time_parsed'] = datetime.utcfromtimestamp(df.loc[i, 'closeTime']//1_000).strftime('%Y-%m-%d %H:%M:%S')\n",
    "\n",
    "                df.to_csv(f'data/{traded_asset}_{stable_asset}_{time_horizon}_{alpha}_ema.csv', index=False)\n"
   ]
  }
 ],
 "metadata": {
  "kernelspec": {
   "display_name": "Python 3",
   "language": "python",
   "name": "python3"
  },
  "language_info": {
   "codemirror_mode": {
    "name": "ipython",
    "version": 3
   },
   "file_extension": ".py",
   "mimetype": "text/x-python",
   "name": "python",
   "nbconvert_exporter": "python",
   "pygments_lexer": "ipython3",
   "version": "3.9.13"
  },
  "orig_nbformat": 4,
  "vscode": {
   "interpreter": {
    "hash": "949777d72b0d2535278d3dc13498b2535136f6dfe0678499012e853ee9abcab1"
   }
  }
 },
 "nbformat": 4,
 "nbformat_minor": 2
}
