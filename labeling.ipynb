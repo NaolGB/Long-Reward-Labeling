{
 "cells": [
  {
   "cell_type": "code",
   "execution_count": 1,
   "metadata": {},
   "outputs": [
    {
     "ename": "BinanceAPIException",
     "evalue": "APIError(code=0): Service unavailable from a restricted location according to 'b. Eligibility' in https://www.binance.com/en/terms. Please contact customer service if you believe you received this message in error.",
     "output_type": "error",
     "traceback": [
      "\u001b[0;31m---------------------------------------------------------------------------\u001b[0m",
      "\u001b[0;31mBinanceAPIException\u001b[0m                       Traceback (most recent call last)",
      "Cell \u001b[0;32mIn[1], line 1\u001b[0m\n\u001b[0;32m----> 1\u001b[0m \u001b[39mimport\u001b[39;00m \u001b[39mmarket_data\u001b[39;00m\n",
      "File \u001b[0;32m~/Desktop/Utility-Labeling/market_data.py:17\u001b[0m\n\u001b[1;32m      5\u001b[0m \u001b[39m# map string inputs into Binance variables\u001b[39;00m\n\u001b[1;32m      6\u001b[0m interval_map \u001b[39m=\u001b[39m {\n\u001b[1;32m      7\u001b[0m     \u001b[39m'\u001b[39m\u001b[39m1min\u001b[39m\u001b[39m'\u001b[39m : Client\u001b[39m.\u001b[39mKLINE_INTERVAL_1MINUTE,\n\u001b[1;32m      8\u001b[0m     \u001b[39m'\u001b[39m\u001b[39m3min\u001b[39m\u001b[39m'\u001b[39m : Client\u001b[39m.\u001b[39mKLINE_INTERVAL_3MINUTE,\n\u001b[0;32m   (...)\u001b[0m\n\u001b[1;32m     14\u001b[0m     \u001b[39m'\u001b[39m\u001b[39m12hr\u001b[39m\u001b[39m'\u001b[39m: Client\u001b[39m.\u001b[39mKLINE_INTERVAL_12HOUR,\n\u001b[1;32m     15\u001b[0m }\n\u001b[0;32m---> 17\u001b[0m client \u001b[39m=\u001b[39m Client(api_key\u001b[39m=\u001b[39;49msecrets\u001b[39m.\u001b[39;49mAPIKEY, api_secret\u001b[39m=\u001b[39;49msecrets\u001b[39m.\u001b[39;49mSECRETKEY)\n\u001b[1;32m     19\u001b[0m \u001b[39mdef\u001b[39;00m \u001b[39mfetchBinance\u001b[39m(asset, time_frame, start_date, end_date):\n\u001b[1;32m     20\u001b[0m     \u001b[39m# file name used as an id for a specific asset and specific time frame\u001b[39;00m\n\u001b[1;32m     21\u001b[0m     \u001b[39m# using file name helps avoid sending API request for data previously fetched\u001b[39;00m\n\u001b[1;32m     22\u001b[0m     file_name \u001b[39m=\u001b[39m \u001b[39mf\u001b[39m\u001b[39m'\u001b[39m\u001b[39m{\u001b[39;00masset\u001b[39m}\u001b[39;00m\u001b[39m_\u001b[39m\u001b[39m{\u001b[39;00mtime_frame\u001b[39m}\u001b[39;00m\u001b[39m_\u001b[39m\u001b[39m{\u001b[39;00mstart_date\u001b[39m}\u001b[39;00m\u001b[39m-\u001b[39m\u001b[39m{\u001b[39;00mend_date\u001b[39m}\u001b[39;00m\u001b[39m_raw\u001b[39m\u001b[39m'\u001b[39m\n",
      "File \u001b[0;32m~/my_envs/trading_env/env/lib/python3.8/site-packages/binance/client.py:300\u001b[0m, in \u001b[0;36mClient.__init__\u001b[0;34m(self, api_key, api_secret, requests_params, tld, testnet)\u001b[0m\n\u001b[1;32m    297\u001b[0m \u001b[39msuper\u001b[39m()\u001b[39m.\u001b[39m\u001b[39m__init__\u001b[39m(api_key, api_secret, requests_params, tld, testnet)\n\u001b[1;32m    299\u001b[0m \u001b[39m# init DNS and SSL cert\u001b[39;00m\n\u001b[0;32m--> 300\u001b[0m \u001b[39mself\u001b[39;49m\u001b[39m.\u001b[39;49mping()\n",
      "File \u001b[0;32m~/my_envs/trading_env/env/lib/python3.8/site-packages/binance/client.py:526\u001b[0m, in \u001b[0;36mClient.ping\u001b[0;34m(self)\u001b[0m\n\u001b[1;32m    512\u001b[0m \u001b[39mdef\u001b[39;00m \u001b[39mping\u001b[39m(\u001b[39mself\u001b[39m) \u001b[39m-\u001b[39m\u001b[39m>\u001b[39m Dict:\n\u001b[1;32m    513\u001b[0m \u001b[39m    \u001b[39m\u001b[39m\"\"\"Test connectivity to the Rest API.\u001b[39;00m\n\u001b[1;32m    514\u001b[0m \n\u001b[1;32m    515\u001b[0m \u001b[39m    https://binance-docs.github.io/apidocs/spot/en/#test-connectivity\u001b[39;00m\n\u001b[0;32m   (...)\u001b[0m\n\u001b[1;32m    524\u001b[0m \n\u001b[1;32m    525\u001b[0m \u001b[39m    \"\"\"\u001b[39;00m\n\u001b[0;32m--> 526\u001b[0m     \u001b[39mreturn\u001b[39;00m \u001b[39mself\u001b[39;49m\u001b[39m.\u001b[39;49m_get(\u001b[39m'\u001b[39;49m\u001b[39mping\u001b[39;49m\u001b[39m'\u001b[39;49m, version\u001b[39m=\u001b[39;49m\u001b[39mself\u001b[39;49m\u001b[39m.\u001b[39;49mPRIVATE_API_VERSION)\n",
      "File \u001b[0;32m~/my_envs/trading_env/env/lib/python3.8/site-packages/binance/client.py:371\u001b[0m, in \u001b[0;36mClient._get\u001b[0;34m(self, path, signed, version, **kwargs)\u001b[0m\n\u001b[1;32m    370\u001b[0m \u001b[39mdef\u001b[39;00m \u001b[39m_get\u001b[39m(\u001b[39mself\u001b[39m, path, signed\u001b[39m=\u001b[39m\u001b[39mFalse\u001b[39;00m, version\u001b[39m=\u001b[39mBaseClient\u001b[39m.\u001b[39mPUBLIC_API_VERSION, \u001b[39m*\u001b[39m\u001b[39m*\u001b[39mkwargs):\n\u001b[0;32m--> 371\u001b[0m     \u001b[39mreturn\u001b[39;00m \u001b[39mself\u001b[39;49m\u001b[39m.\u001b[39;49m_request_api(\u001b[39m'\u001b[39;49m\u001b[39mget\u001b[39;49m\u001b[39m'\u001b[39;49m, path, signed, version, \u001b[39m*\u001b[39;49m\u001b[39m*\u001b[39;49mkwargs)\n",
      "File \u001b[0;32m~/my_envs/trading_env/env/lib/python3.8/site-packages/binance/client.py:334\u001b[0m, in \u001b[0;36mClient._request_api\u001b[0;34m(self, method, path, signed, version, **kwargs)\u001b[0m\n\u001b[1;32m    330\u001b[0m \u001b[39mdef\u001b[39;00m \u001b[39m_request_api\u001b[39m(\n\u001b[1;32m    331\u001b[0m     \u001b[39mself\u001b[39m, method, path: \u001b[39mstr\u001b[39m, signed: \u001b[39mbool\u001b[39m \u001b[39m=\u001b[39m \u001b[39mFalse\u001b[39;00m, version\u001b[39m=\u001b[39mBaseClient\u001b[39m.\u001b[39mPUBLIC_API_VERSION, \u001b[39m*\u001b[39m\u001b[39m*\u001b[39mkwargs\n\u001b[1;32m    332\u001b[0m ):\n\u001b[1;32m    333\u001b[0m     uri \u001b[39m=\u001b[39m \u001b[39mself\u001b[39m\u001b[39m.\u001b[39m_create_api_uri(path, signed, version)\n\u001b[0;32m--> 334\u001b[0m     \u001b[39mreturn\u001b[39;00m \u001b[39mself\u001b[39;49m\u001b[39m.\u001b[39;49m_request(method, uri, signed, \u001b[39m*\u001b[39;49m\u001b[39m*\u001b[39;49mkwargs)\n",
      "File \u001b[0;32m~/my_envs/trading_env/env/lib/python3.8/site-packages/binance/client.py:315\u001b[0m, in \u001b[0;36mClient._request\u001b[0;34m(self, method, uri, signed, force_params, **kwargs)\u001b[0m\n\u001b[1;32m    312\u001b[0m kwargs \u001b[39m=\u001b[39m \u001b[39mself\u001b[39m\u001b[39m.\u001b[39m_get_request_kwargs(method, signed, force_params, \u001b[39m*\u001b[39m\u001b[39m*\u001b[39mkwargs)\n\u001b[1;32m    314\u001b[0m \u001b[39mself\u001b[39m\u001b[39m.\u001b[39mresponse \u001b[39m=\u001b[39m \u001b[39mgetattr\u001b[39m(\u001b[39mself\u001b[39m\u001b[39m.\u001b[39msession, method)(uri, \u001b[39m*\u001b[39m\u001b[39m*\u001b[39mkwargs)\n\u001b[0;32m--> 315\u001b[0m \u001b[39mreturn\u001b[39;00m \u001b[39mself\u001b[39;49m\u001b[39m.\u001b[39;49m_handle_response(\u001b[39mself\u001b[39;49m\u001b[39m.\u001b[39;49mresponse)\n",
      "File \u001b[0;32m~/my_envs/trading_env/env/lib/python3.8/site-packages/binance/client.py:324\u001b[0m, in \u001b[0;36mClient._handle_response\u001b[0;34m(response)\u001b[0m\n\u001b[1;32m    319\u001b[0m \u001b[39m\u001b[39m\u001b[39m\"\"\"Internal helper for handling API responses from the Binance server.\u001b[39;00m\n\u001b[1;32m    320\u001b[0m \u001b[39mRaises the appropriate exceptions when necessary; otherwise, returns the\u001b[39;00m\n\u001b[1;32m    321\u001b[0m \u001b[39mresponse.\u001b[39;00m\n\u001b[1;32m    322\u001b[0m \u001b[39m\"\"\"\u001b[39;00m\n\u001b[1;32m    323\u001b[0m \u001b[39mif\u001b[39;00m \u001b[39mnot\u001b[39;00m (\u001b[39m200\u001b[39m \u001b[39m<\u001b[39m\u001b[39m=\u001b[39m response\u001b[39m.\u001b[39mstatus_code \u001b[39m<\u001b[39m \u001b[39m300\u001b[39m):\n\u001b[0;32m--> 324\u001b[0m     \u001b[39mraise\u001b[39;00m BinanceAPIException(response, response\u001b[39m.\u001b[39mstatus_code, response\u001b[39m.\u001b[39mtext)\n\u001b[1;32m    325\u001b[0m \u001b[39mtry\u001b[39;00m:\n\u001b[1;32m    326\u001b[0m     \u001b[39mreturn\u001b[39;00m response\u001b[39m.\u001b[39mjson()\n",
      "\u001b[0;31mBinanceAPIException\u001b[0m: APIError(code=0): Service unavailable from a restricted location according to 'b. Eligibility' in https://www.binance.com/en/terms. Please contact customer service if you believe you received this message in error."
     ]
    }
   ],
   "source": [
    "import market_data"
   ]
  },
  {
   "cell_type": "code",
   "execution_count": 2,
   "metadata": {},
   "outputs": [],
   "source": [
    "df_raw = market_data.fetchBinance(asset='BTC', time_frame='15min', start_date='Dec 2, 2022', end_date='Dec 5, 2022')"
   ]
  },
  {
   "cell_type": "code",
   "execution_count": 3,
   "metadata": {},
   "outputs": [],
   "source": [
    "df = df_raw[['open', 'close']].copy() # only 'open' and 'close' needed for moving average calculation"
   ]
  },
  {
   "cell_type": "code",
   "execution_count": 6,
   "metadata": {},
   "outputs": [
    {
     "data": {
      "text/html": [
       "<div>\n",
       "<style scoped>\n",
       "    .dataframe tbody tr th:only-of-type {\n",
       "        vertical-align: middle;\n",
       "    }\n",
       "\n",
       "    .dataframe tbody tr th {\n",
       "        vertical-align: top;\n",
       "    }\n",
       "\n",
       "    .dataframe thead th {\n",
       "        text-align: right;\n",
       "    }\n",
       "</style>\n",
       "<table border=\"1\" class=\"dataframe\">\n",
       "  <thead>\n",
       "    <tr style=\"text-align: right;\">\n",
       "      <th></th>\n",
       "      <th>open</th>\n",
       "      <th>close</th>\n",
       "    </tr>\n",
       "  </thead>\n",
       "  <tbody>\n",
       "    <tr>\n",
       "      <th>0</th>\n",
       "      <td>16978.00</td>\n",
       "      <td>16959.92</td>\n",
       "    </tr>\n",
       "    <tr>\n",
       "      <th>1</th>\n",
       "      <td>16960.74</td>\n",
       "      <td>16970.46</td>\n",
       "    </tr>\n",
       "    <tr>\n",
       "      <th>2</th>\n",
       "      <td>16969.80</td>\n",
       "      <td>16986.87</td>\n",
       "    </tr>\n",
       "    <tr>\n",
       "      <th>3</th>\n",
       "      <td>16986.87</td>\n",
       "      <td>17037.82</td>\n",
       "    </tr>\n",
       "    <tr>\n",
       "      <th>4</th>\n",
       "      <td>17037.82</td>\n",
       "      <td>17001.63</td>\n",
       "    </tr>\n",
       "    <tr>\n",
       "      <th>...</th>\n",
       "      <td>...</td>\n",
       "      <td>...</td>\n",
       "    </tr>\n",
       "    <tr>\n",
       "      <th>284</th>\n",
       "      <td>17103.29</td>\n",
       "      <td>17125.23</td>\n",
       "    </tr>\n",
       "    <tr>\n",
       "      <th>285</th>\n",
       "      <td>17125.23</td>\n",
       "      <td>17128.14</td>\n",
       "    </tr>\n",
       "    <tr>\n",
       "      <th>286</th>\n",
       "      <td>17128.14</td>\n",
       "      <td>17101.98</td>\n",
       "    </tr>\n",
       "    <tr>\n",
       "      <th>287</th>\n",
       "      <td>17101.98</td>\n",
       "      <td>17105.70</td>\n",
       "    </tr>\n",
       "    <tr>\n",
       "      <th>288</th>\n",
       "      <td>17106.65</td>\n",
       "      <td>17099.96</td>\n",
       "    </tr>\n",
       "  </tbody>\n",
       "</table>\n",
       "<p>289 rows × 2 columns</p>\n",
       "</div>"
      ],
      "text/plain": [
       "         open     close\n",
       "0    16978.00  16959.92\n",
       "1    16960.74  16970.46\n",
       "2    16969.80  16986.87\n",
       "3    16986.87  17037.82\n",
       "4    17037.82  17001.63\n",
       "..        ...       ...\n",
       "284  17103.29  17125.23\n",
       "285  17125.23  17128.14\n",
       "286  17128.14  17101.98\n",
       "287  17101.98  17105.70\n",
       "288  17106.65  17099.96\n",
       "\n",
       "[289 rows x 2 columns]"
      ]
     },
     "execution_count": 6,
     "metadata": {},
     "output_type": "execute_result"
    }
   ],
   "source": [
    "df"
   ]
  },
  {
   "cell_type": "code",
   "execution_count": null,
   "metadata": {},
   "outputs": [],
   "source": [
    "traded_assets = ['BTC', 'ETH', 'ADA', 'DOGE']\n",
    "stable_assets = ['USDT']\n",
    "alpha_values = [0.05, 0.25, 0.5, 0.75, 0.95]"
   ]
  },
  {
   "cell_type": "code",
   "execution_count": 5,
   "metadata": {},
   "outputs": [
    {
     "ename": "ValueError",
     "evalue": "Must pass one of comass, span, halflife, or alpha",
     "output_type": "error",
     "traceback": [
      "\u001b[0;31m---------------------------------------------------------------------------\u001b[0m",
      "\u001b[0;31mValueError\u001b[0m                                Traceback (most recent call last)",
      "Cell \u001b[0;32mIn[5], line 1\u001b[0m\n\u001b[0;32m----> 1\u001b[0m ewm \u001b[39m=\u001b[39m df\u001b[39m.\u001b[39;49mewm()\n",
      "File \u001b[0;32m~/my_envs/trading_env/env/lib/python3.8/site-packages/pandas/core/generic.py:12051\u001b[0m, in \u001b[0;36mNDFrame.ewm\u001b[0;34m(self, com, span, halflife, alpha, min_periods, adjust, ignore_na, axis, times, method)\u001b[0m\n\u001b[1;32m  12035\u001b[0m \u001b[39m@final\u001b[39m\n\u001b[1;32m  12036\u001b[0m \u001b[39m@doc\u001b[39m(ExponentialMovingWindow)\n\u001b[1;32m  12037\u001b[0m \u001b[39mdef\u001b[39;00m \u001b[39mewm\u001b[39m(\n\u001b[0;32m   (...)\u001b[0m\n\u001b[1;32m  12048\u001b[0m     method: \u001b[39mstr\u001b[39m \u001b[39m=\u001b[39m \u001b[39m\"\u001b[39m\u001b[39msingle\u001b[39m\u001b[39m\"\u001b[39m,\n\u001b[1;32m  12049\u001b[0m ) \u001b[39m-\u001b[39m\u001b[39m>\u001b[39m ExponentialMovingWindow:\n\u001b[1;32m  12050\u001b[0m     axis \u001b[39m=\u001b[39m \u001b[39mself\u001b[39m\u001b[39m.\u001b[39m_get_axis_number(axis)\n\u001b[0;32m> 12051\u001b[0m     \u001b[39mreturn\u001b[39;00m ExponentialMovingWindow(\n\u001b[1;32m  12052\u001b[0m         \u001b[39mself\u001b[39;49m,\n\u001b[1;32m  12053\u001b[0m         com\u001b[39m=\u001b[39;49mcom,\n\u001b[1;32m  12054\u001b[0m         span\u001b[39m=\u001b[39;49mspan,\n\u001b[1;32m  12055\u001b[0m         halflife\u001b[39m=\u001b[39;49mhalflife,\n\u001b[1;32m  12056\u001b[0m         alpha\u001b[39m=\u001b[39;49malpha,\n\u001b[1;32m  12057\u001b[0m         min_periods\u001b[39m=\u001b[39;49mmin_periods,\n\u001b[1;32m  12058\u001b[0m         adjust\u001b[39m=\u001b[39;49madjust,\n\u001b[1;32m  12059\u001b[0m         ignore_na\u001b[39m=\u001b[39;49mignore_na,\n\u001b[1;32m  12060\u001b[0m         axis\u001b[39m=\u001b[39;49maxis,\n\u001b[1;32m  12061\u001b[0m         times\u001b[39m=\u001b[39;49mtimes,\n\u001b[1;32m  12062\u001b[0m         method\u001b[39m=\u001b[39;49mmethod,\n\u001b[1;32m  12063\u001b[0m     )\n",
      "File \u001b[0;32m~/my_envs/trading_env/env/lib/python3.8/site-packages/pandas/core/window/ewm.py:425\u001b[0m, in \u001b[0;36mExponentialMovingWindow.__init__\u001b[0;34m(self, obj, com, span, halflife, alpha, min_periods, adjust, ignore_na, axis, times, method, selection)\u001b[0m\n\u001b[1;32m    421\u001b[0m \u001b[39m# Without times, points are equally spaced\u001b[39;00m\n\u001b[1;32m    422\u001b[0m \u001b[39mself\u001b[39m\u001b[39m.\u001b[39m_deltas \u001b[39m=\u001b[39m np\u001b[39m.\u001b[39mones(\n\u001b[1;32m    423\u001b[0m     \u001b[39mmax\u001b[39m(\u001b[39mself\u001b[39m\u001b[39m.\u001b[39mobj\u001b[39m.\u001b[39mshape[\u001b[39mself\u001b[39m\u001b[39m.\u001b[39maxis] \u001b[39m-\u001b[39m \u001b[39m1\u001b[39m, \u001b[39m0\u001b[39m), dtype\u001b[39m=\u001b[39mnp\u001b[39m.\u001b[39mfloat64\n\u001b[1;32m    424\u001b[0m )\n\u001b[0;32m--> 425\u001b[0m \u001b[39mself\u001b[39m\u001b[39m.\u001b[39m_com \u001b[39m=\u001b[39m get_center_of_mass(\n\u001b[1;32m    426\u001b[0m     \u001b[39m# error: Argument 3 to \"get_center_of_mass\" has incompatible type\u001b[39;49;00m\n\u001b[1;32m    427\u001b[0m     \u001b[39m# \"Union[float, Any, None, timedelta64, signedinteger[_64Bit]]\";\u001b[39;49;00m\n\u001b[1;32m    428\u001b[0m     \u001b[39m# expected \"Optional[float]\"\u001b[39;49;00m\n\u001b[1;32m    429\u001b[0m     \u001b[39mself\u001b[39;49m\u001b[39m.\u001b[39;49mcom,\n\u001b[1;32m    430\u001b[0m     \u001b[39mself\u001b[39;49m\u001b[39m.\u001b[39;49mspan,\n\u001b[1;32m    431\u001b[0m     \u001b[39mself\u001b[39;49m\u001b[39m.\u001b[39;49mhalflife,  \u001b[39m# type: ignore[arg-type]\u001b[39;49;00m\n\u001b[1;32m    432\u001b[0m     \u001b[39mself\u001b[39;49m\u001b[39m.\u001b[39;49malpha,\n\u001b[1;32m    433\u001b[0m )\n",
      "File \u001b[0;32m~/my_envs/trading_env/env/lib/python3.8/site-packages/pandas/core/window/ewm.py:103\u001b[0m, in \u001b[0;36mget_center_of_mass\u001b[0;34m(comass, span, halflife, alpha)\u001b[0m\n\u001b[1;32m    101\u001b[0m     comass \u001b[39m=\u001b[39m (\u001b[39m1\u001b[39m \u001b[39m-\u001b[39m alpha) \u001b[39m/\u001b[39m alpha\n\u001b[1;32m    102\u001b[0m \u001b[39melse\u001b[39;00m:\n\u001b[0;32m--> 103\u001b[0m     \u001b[39mraise\u001b[39;00m \u001b[39mValueError\u001b[39;00m(\u001b[39m\"\u001b[39m\u001b[39mMust pass one of comass, span, halflife, or alpha\u001b[39m\u001b[39m\"\u001b[39m)\n\u001b[1;32m    105\u001b[0m \u001b[39mreturn\u001b[39;00m \u001b[39mfloat\u001b[39m(comass)\n",
      "\u001b[0;31mValueError\u001b[0m: Must pass one of comass, span, halflife, or alpha"
     ]
    }
   ],
   "source": [
    "ewm = df.ewm()"
   ]
  },
  {
   "cell_type": "code",
   "execution_count": null,
   "metadata": {},
   "outputs": [],
   "source": []
  }
 ],
 "metadata": {
  "kernelspec": {
   "display_name": "Tading",
   "language": "python",
   "name": "tading"
  },
  "language_info": {
   "codemirror_mode": {
    "name": "ipython",
    "version": 3
   },
   "file_extension": ".py",
   "mimetype": "text/x-python",
   "name": "python",
   "nbconvert_exporter": "python",
   "pygments_lexer": "ipython3",
   "version": "3.8.15"
  },
  "orig_nbformat": 4,
  "vscode": {
   "interpreter": {
    "hash": "949777d72b0d2535278d3dc13498b2535136f6dfe0678499012e853ee9abcab1"
   }
  }
 },
 "nbformat": 4,
 "nbformat_minor": 2
}
